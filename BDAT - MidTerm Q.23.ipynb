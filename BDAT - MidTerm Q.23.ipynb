{
 "cells": [
  {
   "cell_type": "code",
   "execution_count": 1,
   "id": "cee471b5",
   "metadata": {},
   "outputs": [
    {
     "name": "stdout",
     "output_type": "stream",
     "text": [
      "*\n",
      "**\n",
      " *\n",
      "****\n",
      " ***\n",
      "  **\n",
      "   *\n"
     ]
    }
   ],
   "source": [
    "def tough(indentation, stars):\n",
    "    # Base case: when there are no stars left, return an empty string\n",
    "    if stars == 0:\n",
    "        return \"\"\n",
    "    \n",
    "    # Recursive case:\n",
    "    # Construct the current line: indentation spaces followed by stars asterisks\n",
    "    current_line = \" \" * indentation + \"*\" * stars\n",
    "    # Print the current line\n",
    "    print(current_line)\n",
    "    \n",
    "    # Make a recursive call with reduced stars and increased indentation\n",
    "    tough(indentation + 1, stars - 1)\n",
    "\n",
    "# Example usage:\n",
    "tough(0,0)\n",
    "tough(0,1)\n",
    "\n",
    "tough(0,2)\n",
    "\n",
    "tough(0,4)"
   ]
  },
  {
   "cell_type": "code",
   "execution_count": null,
   "id": "575f733b",
   "metadata": {},
   "outputs": [],
   "source": []
  }
 ],
 "metadata": {
  "kernelspec": {
   "display_name": "Python 3 (ipykernel)",
   "language": "python",
   "name": "python3"
  },
  "language_info": {
   "codemirror_mode": {
    "name": "ipython",
    "version": 3
   },
   "file_extension": ".py",
   "mimetype": "text/x-python",
   "name": "python",
   "nbconvert_exporter": "python",
   "pygments_lexer": "ipython3",
   "version": "3.11.5"
  }
 },
 "nbformat": 4,
 "nbformat_minor": 5
}
