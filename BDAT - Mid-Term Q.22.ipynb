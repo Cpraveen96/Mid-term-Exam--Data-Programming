{
 "cells": [
  {
   "cell_type": "code",
   "execution_count": 1,
   "id": "b866207b",
   "metadata": {},
   "outputs": [
    {
     "name": "stdout",
     "output_type": "stream",
     "text": [
      "2\n",
      "4\n"
     ]
    }
   ],
   "source": [
    "# Importing necessary libraries\n",
    "import sqlite3\n",
    "\n",
    "# Create a SQLite connection and cursor\n",
    "conn = sqlite3.connect(':memory:')\n",
    "cur = conn.cursor()\n",
    "\n",
    "# Create Weather table\n",
    "cur.execute('''CREATE TABLE Weather (\n",
    "               id INTEGER PRIMARY KEY,\n",
    "               recordDate DATE,\n",
    "               temperature INTEGER\n",
    "               )''')\n",
    "\n",
    "# Insert data into Weather table\n",
    "data = [\n",
    "    (1, '2015-01-01', 10),\n",
    "    (2, '2015-01-02', 25),\n",
    "    (3, '2015-01-03', 20),\n",
    "    (4, '2015-01-04', 30)\n",
    "]\n",
    "\n",
    "cur.executemany(\"INSERT INTO Weather (id, recordDate, temperature) VALUES (?, ?, ?)\", data)\n",
    "\n",
    "# Query to find all dates' Id with higher temperatures compared to previous dates\n",
    "cur.execute('''\n",
    "SELECT w.id\n",
    "FROM Weather w\n",
    "JOIN Weather w_prev ON w.recordDate = date(w_prev.recordDate, '+1 day')\n",
    "WHERE w.temperature > w_prev.temperature\n",
    "''')\n",
    "\n",
    "# Fetch and print the results\n",
    "rows = cur.fetchall()\n",
    "for row in rows:\n",
    "    print(row[0])\n",
    "\n",
    "# Close the connection\n",
    "conn.close()\n"
   ]
  },
  {
   "cell_type": "code",
   "execution_count": null,
   "id": "c1e29d55",
   "metadata": {},
   "outputs": [],
   "source": []
  }
 ],
 "metadata": {
  "kernelspec": {
   "display_name": "Python 3 (ipykernel)",
   "language": "python",
   "name": "python3"
  },
  "language_info": {
   "codemirror_mode": {
    "name": "ipython",
    "version": 3
   },
   "file_extension": ".py",
   "mimetype": "text/x-python",
   "name": "python",
   "nbconvert_exporter": "python",
   "pygments_lexer": "ipython3",
   "version": "3.11.5"
  }
 },
 "nbformat": 4,
 "nbformat_minor": 5
}
